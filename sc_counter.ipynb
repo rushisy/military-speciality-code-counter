{
 "cells": [
  {
   "cell_type": "code",
   "execution_count": 11,
   "metadata": {},
   "outputs": [],
   "source": [
    "import configparser\n",
    "\n",
    "config = configparser.ConfigParser()\n",
    "config.read('secret/config.ini')\n",
    "\n",
    "api_key = config.get('API', 'key')"
   ]
  },
  {
   "cell_type": "code",
   "execution_count": 19,
   "metadata": {},
   "outputs": [
    {
     "ename": "AttributeError",
     "evalue": "'Assistants' object has no attribute 'files'",
     "output_type": "error",
     "traceback": [
      "\u001b[0;31m---------------------------------------------------------------------------\u001b[0m",
      "\u001b[0;31mAttributeError\u001b[0m                            Traceback (most recent call last)",
      "Cell \u001b[0;32mIn[19], line 21\u001b[0m\n\u001b[1;32m     18\u001b[0m     \u001b[38;5;28mprint\u001b[39m(\u001b[38;5;124mf\u001b[39m\u001b[38;5;124m\"\u001b[39m\u001b[38;5;124mFile \u001b[39m\u001b[38;5;124m'\u001b[39m\u001b[38;5;132;01m{\u001b[39;00mfile_path\u001b[38;5;132;01m}\u001b[39;00m\u001b[38;5;124m'\u001b[39m\u001b[38;5;124m uploaded and added to the assistant with ID: \u001b[39m\u001b[38;5;132;01m{\u001b[39;00massistant_id\u001b[38;5;132;01m}\u001b[39;00m\u001b[38;5;124m\"\u001b[39m)\n\u001b[1;32m     20\u001b[0m \u001b[38;5;66;03m# Example usage\u001b[39;00m\n\u001b[0;32m---> 21\u001b[0m \u001b[43mupload_file_to_existing_assistant\u001b[49m\u001b[43m(\u001b[49m\u001b[43mapi_key\u001b[49m\u001b[43m,\u001b[49m\u001b[43m \u001b[49m\u001b[43massistant_id\u001b[49m\u001b[43m,\u001b[49m\u001b[43m \u001b[49m\u001b[43mfile_path\u001b[49m\u001b[43m)\u001b[49m\n",
      "Cell \u001b[0;32mIn[19], line 16\u001b[0m, in \u001b[0;36mupload_file_to_existing_assistant\u001b[0;34m(api_key, assistant_id, file_path)\u001b[0m\n\u001b[1;32m     13\u001b[0m     uploaded_file \u001b[38;5;241m=\u001b[39m client\u001b[38;5;241m.\u001b[39mfiles\u001b[38;5;241m.\u001b[39mcreate(file\u001b[38;5;241m=\u001b[39mfile, purpose\u001b[38;5;241m=\u001b[39m\u001b[38;5;124m'\u001b[39m\u001b[38;5;124massistants\u001b[39m\u001b[38;5;124m'\u001b[39m)\n\u001b[1;32m     15\u001b[0m \u001b[38;5;66;03m# Add the uploaded file to the assistant\u001b[39;00m\n\u001b[0;32m---> 16\u001b[0m \u001b[43mclient\u001b[49m\u001b[38;5;241;43m.\u001b[39;49m\u001b[43mbeta\u001b[49m\u001b[38;5;241;43m.\u001b[39;49m\u001b[43massistants\u001b[49m\u001b[38;5;241;43m.\u001b[39;49m\u001b[43mfiles\u001b[49m\u001b[38;5;241m.\u001b[39mcreate(assistant_id\u001b[38;5;241m=\u001b[39massistant_id, file_id\u001b[38;5;241m=\u001b[39muploaded_file\u001b[38;5;241m.\u001b[39mid)\n\u001b[1;32m     18\u001b[0m \u001b[38;5;28mprint\u001b[39m(\u001b[38;5;124mf\u001b[39m\u001b[38;5;124m\"\u001b[39m\u001b[38;5;124mFile \u001b[39m\u001b[38;5;124m'\u001b[39m\u001b[38;5;132;01m{\u001b[39;00mfile_path\u001b[38;5;132;01m}\u001b[39;00m\u001b[38;5;124m'\u001b[39m\u001b[38;5;124m uploaded and added to the assistant with ID: \u001b[39m\u001b[38;5;132;01m{\u001b[39;00massistant_id\u001b[38;5;132;01m}\u001b[39;00m\u001b[38;5;124m\"\u001b[39m)\n",
      "\u001b[0;31mAttributeError\u001b[0m: 'Assistants' object has no attribute 'files'"
     ]
    }
   ],
   "source": [
    "from openai import OpenAI\n",
    "\n",
    "assistant_id = 'asst_9PEGSqp4soBtrpJB0QR6RH9p'\n",
    "file_path = 'sc_responses.xlsx'\n",
    "\n",
    "def upload_file_to_existing_assistant(api_key, assistant_id, file_path):\n",
    "\n",
    "    # Initialize OpenAI client with the API key\n",
    "    client = OpenAI(api_key=api_key)\n",
    "\n",
    "    # Upload a file to OpenAI\n",
    "    with open(file_path, 'rb') as file:\n",
    "        uploaded_file = client.files.create(file=file, purpose='assistants')\n",
    "\n",
    "    # Add the uploaded file to the assistant\n",
    "    client.beta.assistants.files.create(assistant_id=assistant_id, file_id=uploaded_file.id)\n",
    "\n",
    "    print(f\"File '{file_path}' uploaded and added to the assistant with ID: {assistant_id}\")\n",
    "\n",
    "# Example usage\n",
    "upload_file_to_existing_assistant(api_key, assistant_id, file_path)"
   ]
  }
 ],
 "metadata": {
  "kernelspec": {
   "display_name": "speciality_codes",
   "language": "python",
   "name": "python3"
  },
  "language_info": {
   "codemirror_mode": {
    "name": "ipython",
    "version": 3
   },
   "file_extension": ".py",
   "mimetype": "text/x-python",
   "name": "python",
   "nbconvert_exporter": "python",
   "pygments_lexer": "ipython3",
   "version": "3.8.19"
  }
 },
 "nbformat": 4,
 "nbformat_minor": 2
}
