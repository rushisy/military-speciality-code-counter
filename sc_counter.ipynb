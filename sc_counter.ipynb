{
 "cells": [
  {
   "cell_type": "code",
   "execution_count": 1,
   "metadata": {},
   "outputs": [],
   "source": [
    "import configparser\n",
    "\n",
    "config = configparser.ConfigParser()\n",
    "config.read('../secret/config.ini')\n",
    "\n",
    "api_key = config.get('API', 'key')"
   ]
  },
  {
   "cell_type": "code",
   "execution_count": 3,
   "metadata": {},
   "outputs": [
    {
     "name": "stdout",
     "output_type": "stream",
     "text": [
      "14N - Intelligence Officer: 10\n",
      "71S - Special Investigations: 4\n",
      "13S - Space Operations Officer: 3\n",
      "63A - Acquisition Manager: 3\n",
      "17S - Cyberspace Effects Operations: 3\n",
      "92T0 - Pilot: 3\n",
      "92T2 - Air Battle Manager: 2\n",
      "17D - Cyberspace Operations: 2\n",
      "11X - Pilots: 2\n",
      "41A - Health Profession: 2\n",
      "61A - Operations Research Analyst: 2\n",
      "61B - Behavioral Science/Human Factors Scientists: 2\n",
      "21R - Logistics Readiness: 2\n",
      "64P - Contracting: 2\n",
      "61D - Physicist/Nuclear Engineer: 1\n",
      "13N - Nuclear and Missile Operations: 2\n",
      "13D - Combat Rescue Officer: 2 (Inferred from context)\n",
      "17D1 - Cyberspace Operations: 2\n",
      "14N1 - Intelligence Officer: 2\n",
      "71SX - AFOSI: 1\n",
      "35P1 - Public Affairs: 1 (Assumed from common AFSC code)\n",
      "514A - Special Tactics Officer: 1 (Inferred from context)\n",
      "21M - Munitions & Missile Maintenance: 1\n",
      "11S - Special Operations Pilot: 1\n",
      "12X - CSO/Navigator: 1\n",
      "31PX - Security Forces: 1\n",
      "61C - Chemist/ Nuclear Chemist: 1\n",
      "13M - Aircraft Operations: 1\n",
      "43A - Aerospace/ Operational Physiologist: 1\n",
      "15W - Weather: 1\n",
      "62E1B - Developmental Engineer - Astronautical: 1\n",
      "13L1 - Air Liaison Officer: 1\n",
      "\n",
      "Total count: 60\n"
     ]
    }
   ],
   "source": [
    "import pandas as pd\n",
    "from openai import OpenAI\n",
    "client = OpenAI()\n",
    "\n",
    "file_path = 'sc_responses.xlsx'\n",
    "df = pd.read_excel(file_path)\n",
    "\n",
    "# if i want to upload xlsx file directly i need to pay for code interpreter which is $0.03 a gig. converting to text cuz im broke\n",
    "data_text = df.to_string()\n",
    "prompt = f\"Here is the data extracted from an XLSX file:\\n\\n{data_text}\\n\\nOnly show output no work. How many of each speciality codes are present? Output as sc (actual job title) - frequency. give a total count at the end and if terms are similar just count them under the same sc (ex. still count each occurance even if similar)\"\n",
    "\n",
    "\n",
    "\n",
    "completion = client.chat.completions.create(\n",
    "  model=\"gpt-4o\",\n",
    "  messages=[\n",
    "    {\"role\": \"system\", \"content\": \"You know everything about Air Force and Space Force speciality codes.\"},\n",
    "    {\"role\": \"user\", \"content\": prompt}\n",
    "  ]\n",
    ")\n",
    "\n",
    "response = completion.choices[0].message.content\n",
    "\n",
    "print(response)\n"
   ]
  }
 ],
 "metadata": {
  "kernelspec": {
   "display_name": "speciality_codes",
   "language": "python",
   "name": "python3"
  },
  "language_info": {
   "codemirror_mode": {
    "name": "ipython",
    "version": 3
   },
   "file_extension": ".py",
   "mimetype": "text/x-python",
   "name": "python",
   "nbconvert_exporter": "python",
   "pygments_lexer": "ipython3",
   "version": "3.8.19"
  }
 },
 "nbformat": 4,
 "nbformat_minor": 2
}
